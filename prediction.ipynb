{
 "cells": [
  {
   "cell_type": "code",
   "execution_count": 1,
   "metadata": {},
   "outputs": [],
   "source": [
    "import pandas as pd\n",
    "# from prophet import Prophet\n",
    "from sklearn.ensemble import RandomForestRegressor\n",
    "from sklearn.model_selection import train_test_split\n",
    "from sklearn.metrics import mean_absolute_error,r2_score"
   ]
  },
  {
   "cell_type": "markdown",
   "metadata": {},
   "source": [
    "import yfinance as yf\n",
    "from datetime import datetime, timedelta\n",
    "\n",
    "def get_max_intraday_data(ticker, interval):\n",
    "    # Set a very large period to attempt to fetch maximum data available\n",
    "    # Note: Yahoo Finance may limit the actual data returned\n",
    "    max_period = \"60d\"\n",
    "    stock = yf.download(ticker, interval=interval, period='max')\n",
    "    return stock\n",
    "data=get_max_intraday_data('^NSEI','1m')\n",
    "data.to_csv('nifty50_1m_data.csv')"
   ]
  },
  {
   "cell_type": "code",
   "execution_count": 2,
   "metadata": {},
   "outputs": [
    {
     "name": "stdout",
     "output_type": "stream",
     "text": [
      "<class 'pandas.core.frame.DataFrame'>\n",
      "RangeIndex: 1499 entries, 0 to 1498\n",
      "Data columns (total 7 columns):\n",
      " #   Column     Non-Null Count  Dtype  \n",
      "---  ------     --------------  -----  \n",
      " 0   Datetime   1499 non-null   object \n",
      " 1   Open       1499 non-null   float64\n",
      " 2   High       1499 non-null   float64\n",
      " 3   Low        1499 non-null   float64\n",
      " 4   Close      1499 non-null   float64\n",
      " 5   Adj Close  1499 non-null   float64\n",
      " 6   Volume     1499 non-null   int64  \n",
      "dtypes: float64(5), int64(1), object(1)\n",
      "memory usage: 82.1+ KB\n",
      "None\n"
     ]
    }
   ],
   "source": [
    "data = pd.read_csv('nifty50_1m_data.csv')\n",
    "\n",
    "print(data.info())"
   ]
  },
  {
   "cell_type": "code",
   "execution_count": 3,
   "metadata": {},
   "outputs": [
    {
     "name": "stdout",
     "output_type": "stream",
     "text": [
      "               Open          High           Low         Close     Adj Close  \\\n",
      "count   1499.000000   1499.000000   1499.000000   1499.000000   1499.000000   \n",
      "mean   21681.057361  21686.391075  21676.202668  21681.295012  21681.295012   \n",
      "std       67.231575     66.866434     67.122172     66.804039     66.804039   \n",
      "min    21433.099609  21468.150391  21433.099609  21452.150391  21452.150391   \n",
      "25%    21654.500000  21661.174805  21651.650391  21654.699219  21654.699219   \n",
      "50%    21696.699219  21700.449219  21692.500000  21696.800781  21696.800781   \n",
      "75%    21724.600586  21730.875000  21719.099609  21724.875000  21724.875000   \n",
      "max    21829.550781  21832.699219  21808.250000  21830.949219  21830.949219   \n",
      "\n",
      "       Volume  \n",
      "count  1499.0  \n",
      "mean      0.0  \n",
      "std       0.0  \n",
      "min       0.0  \n",
      "25%       0.0  \n",
      "50%       0.0  \n",
      "75%       0.0  \n",
      "max       0.0  \n"
     ]
    }
   ],
   "source": [
    "print(data.describe())\n"
   ]
  },
  {
   "cell_type": "code",
   "execution_count": 4,
   "metadata": {},
   "outputs": [
    {
     "data": {
      "text/plain": [
       "Datetime     0\n",
       "Open         0\n",
       "High         0\n",
       "Low          0\n",
       "Close        0\n",
       "Adj Close    0\n",
       "Volume       0\n",
       "dtype: int64"
      ]
     },
     "execution_count": 4,
     "metadata": {},
     "output_type": "execute_result"
    }
   ],
   "source": [
    "data.isnull().sum()"
   ]
  },
  {
   "cell_type": "code",
   "execution_count": 5,
   "metadata": {},
   "outputs": [
    {
     "data": {
      "text/html": [
       "<div>\n",
       "<style scoped>\n",
       "    .dataframe tbody tr th:only-of-type {\n",
       "        vertical-align: middle;\n",
       "    }\n",
       "\n",
       "    .dataframe tbody tr th {\n",
       "        vertical-align: top;\n",
       "    }\n",
       "\n",
       "    .dataframe thead th {\n",
       "        text-align: right;\n",
       "    }\n",
       "</style>\n",
       "<table border=\"1\" class=\"dataframe\">\n",
       "  <thead>\n",
       "    <tr style=\"text-align: right;\">\n",
       "      <th></th>\n",
       "      <th>Datetime</th>\n",
       "      <th>Open</th>\n",
       "      <th>High</th>\n",
       "      <th>Low</th>\n",
       "      <th>Close</th>\n",
       "      <th>Adj Close</th>\n",
       "    </tr>\n",
       "  </thead>\n",
       "  <tbody>\n",
       "    <tr>\n",
       "      <th>0</th>\n",
       "      <td>2024-01-29 09:15:00+05:30</td>\n",
       "      <td>21433.099609</td>\n",
       "      <td>21477.150391</td>\n",
       "      <td>21433.099609</td>\n",
       "      <td>21476.349609</td>\n",
       "      <td>21476.349609</td>\n",
       "    </tr>\n",
       "    <tr>\n",
       "      <th>1</th>\n",
       "      <td>2024-01-29 09:16:00+05:30</td>\n",
       "      <td>21476.449219</td>\n",
       "      <td>21480.349609</td>\n",
       "      <td>21463.449219</td>\n",
       "      <td>21475.800781</td>\n",
       "      <td>21475.800781</td>\n",
       "    </tr>\n",
       "    <tr>\n",
       "      <th>2</th>\n",
       "      <td>2024-01-29 09:17:00+05:30</td>\n",
       "      <td>21475.949219</td>\n",
       "      <td>21483.500000</td>\n",
       "      <td>21467.199219</td>\n",
       "      <td>21469.349609</td>\n",
       "      <td>21469.349609</td>\n",
       "    </tr>\n",
       "    <tr>\n",
       "      <th>3</th>\n",
       "      <td>2024-01-29 09:18:00+05:30</td>\n",
       "      <td>21467.099609</td>\n",
       "      <td>21479.650391</td>\n",
       "      <td>21462.050781</td>\n",
       "      <td>21474.949219</td>\n",
       "      <td>21474.949219</td>\n",
       "    </tr>\n",
       "    <tr>\n",
       "      <th>4</th>\n",
       "      <td>2024-01-29 09:19:00+05:30</td>\n",
       "      <td>21475.300781</td>\n",
       "      <td>21479.400391</td>\n",
       "      <td>21469.699219</td>\n",
       "      <td>21476.300781</td>\n",
       "      <td>21476.300781</td>\n",
       "    </tr>\n",
       "    <tr>\n",
       "      <th>5</th>\n",
       "      <td>2024-01-29 09:20:00+05:30</td>\n",
       "      <td>21476.750000</td>\n",
       "      <td>21494.349609</td>\n",
       "      <td>21475.199219</td>\n",
       "      <td>21493.650391</td>\n",
       "      <td>21493.650391</td>\n",
       "    </tr>\n",
       "    <tr>\n",
       "      <th>6</th>\n",
       "      <td>2024-01-29 09:21:00+05:30</td>\n",
       "      <td>21494.050781</td>\n",
       "      <td>21508.250000</td>\n",
       "      <td>21494.050781</td>\n",
       "      <td>21495.050781</td>\n",
       "      <td>21495.050781</td>\n",
       "    </tr>\n",
       "    <tr>\n",
       "      <th>7</th>\n",
       "      <td>2024-01-29 09:22:00+05:30</td>\n",
       "      <td>21494.349609</td>\n",
       "      <td>21498.849609</td>\n",
       "      <td>21484.699219</td>\n",
       "      <td>21488.000000</td>\n",
       "      <td>21488.000000</td>\n",
       "    </tr>\n",
       "    <tr>\n",
       "      <th>8</th>\n",
       "      <td>2024-01-29 09:23:00+05:30</td>\n",
       "      <td>21489.050781</td>\n",
       "      <td>21500.250000</td>\n",
       "      <td>21489.050781</td>\n",
       "      <td>21499.250000</td>\n",
       "      <td>21499.250000</td>\n",
       "    </tr>\n",
       "    <tr>\n",
       "      <th>9</th>\n",
       "      <td>2024-01-29 09:24:00+05:30</td>\n",
       "      <td>21500.900391</td>\n",
       "      <td>21511.750000</td>\n",
       "      <td>21498.449219</td>\n",
       "      <td>21506.699219</td>\n",
       "      <td>21506.699219</td>\n",
       "    </tr>\n",
       "  </tbody>\n",
       "</table>\n",
       "</div>"
      ],
      "text/plain": [
       "                    Datetime          Open          High           Low  \\\n",
       "0  2024-01-29 09:15:00+05:30  21433.099609  21477.150391  21433.099609   \n",
       "1  2024-01-29 09:16:00+05:30  21476.449219  21480.349609  21463.449219   \n",
       "2  2024-01-29 09:17:00+05:30  21475.949219  21483.500000  21467.199219   \n",
       "3  2024-01-29 09:18:00+05:30  21467.099609  21479.650391  21462.050781   \n",
       "4  2024-01-29 09:19:00+05:30  21475.300781  21479.400391  21469.699219   \n",
       "5  2024-01-29 09:20:00+05:30  21476.750000  21494.349609  21475.199219   \n",
       "6  2024-01-29 09:21:00+05:30  21494.050781  21508.250000  21494.050781   \n",
       "7  2024-01-29 09:22:00+05:30  21494.349609  21498.849609  21484.699219   \n",
       "8  2024-01-29 09:23:00+05:30  21489.050781  21500.250000  21489.050781   \n",
       "9  2024-01-29 09:24:00+05:30  21500.900391  21511.750000  21498.449219   \n",
       "\n",
       "          Close     Adj Close  \n",
       "0  21476.349609  21476.349609  \n",
       "1  21475.800781  21475.800781  \n",
       "2  21469.349609  21469.349609  \n",
       "3  21474.949219  21474.949219  \n",
       "4  21476.300781  21476.300781  \n",
       "5  21493.650391  21493.650391  \n",
       "6  21495.050781  21495.050781  \n",
       "7  21488.000000  21488.000000  \n",
       "8  21499.250000  21499.250000  \n",
       "9  21506.699219  21506.699219  "
      ]
     },
     "execution_count": 5,
     "metadata": {},
     "output_type": "execute_result"
    }
   ],
   "source": [
    "data.drop(['Volume'],axis=1,inplace=True)\n",
    "data.head(10)"
   ]
  },
  {
   "cell_type": "code",
   "execution_count": 6,
   "metadata": {},
   "outputs": [
    {
     "data": {
      "text/html": [
       "<div>\n",
       "<style scoped>\n",
       "    .dataframe tbody tr th:only-of-type {\n",
       "        vertical-align: middle;\n",
       "    }\n",
       "\n",
       "    .dataframe tbody tr th {\n",
       "        vertical-align: top;\n",
       "    }\n",
       "\n",
       "    .dataframe thead th {\n",
       "        text-align: right;\n",
       "    }\n",
       "</style>\n",
       "<table border=\"1\" class=\"dataframe\">\n",
       "  <thead>\n",
       "    <tr style=\"text-align: right;\">\n",
       "      <th></th>\n",
       "      <th>Open</th>\n",
       "      <th>High</th>\n",
       "      <th>Low</th>\n",
       "      <th>Close</th>\n",
       "    </tr>\n",
       "  </thead>\n",
       "  <tbody>\n",
       "    <tr>\n",
       "      <th>0</th>\n",
       "      <td>21433.099609</td>\n",
       "      <td>21477.150391</td>\n",
       "      <td>21433.099609</td>\n",
       "      <td>21476.349609</td>\n",
       "    </tr>\n",
       "    <tr>\n",
       "      <th>1</th>\n",
       "      <td>21476.449219</td>\n",
       "      <td>21480.349609</td>\n",
       "      <td>21463.449219</td>\n",
       "      <td>21475.800781</td>\n",
       "    </tr>\n",
       "    <tr>\n",
       "      <th>2</th>\n",
       "      <td>21475.949219</td>\n",
       "      <td>21483.500000</td>\n",
       "      <td>21467.199219</td>\n",
       "      <td>21469.349609</td>\n",
       "    </tr>\n",
       "    <tr>\n",
       "      <th>3</th>\n",
       "      <td>21467.099609</td>\n",
       "      <td>21479.650391</td>\n",
       "      <td>21462.050781</td>\n",
       "      <td>21474.949219</td>\n",
       "    </tr>\n",
       "    <tr>\n",
       "      <th>4</th>\n",
       "      <td>21475.300781</td>\n",
       "      <td>21479.400391</td>\n",
       "      <td>21469.699219</td>\n",
       "      <td>21476.300781</td>\n",
       "    </tr>\n",
       "    <tr>\n",
       "      <th>...</th>\n",
       "      <td>...</td>\n",
       "      <td>...</td>\n",
       "      <td>...</td>\n",
       "      <td>...</td>\n",
       "    </tr>\n",
       "    <tr>\n",
       "      <th>1494</th>\n",
       "      <td>21698.650391</td>\n",
       "      <td>21700.000000</td>\n",
       "      <td>21694.800781</td>\n",
       "      <td>21696.199219</td>\n",
       "    </tr>\n",
       "    <tr>\n",
       "      <th>1495</th>\n",
       "      <td>21696.150391</td>\n",
       "      <td>21697.449219</td>\n",
       "      <td>21692.349609</td>\n",
       "      <td>21693.949219</td>\n",
       "    </tr>\n",
       "    <tr>\n",
       "      <th>1496</th>\n",
       "      <td>21694.699219</td>\n",
       "      <td>21694.699219</td>\n",
       "      <td>21690.650391</td>\n",
       "      <td>21691.400391</td>\n",
       "    </tr>\n",
       "    <tr>\n",
       "      <th>1497</th>\n",
       "      <td>21692.000000</td>\n",
       "      <td>21692.000000</td>\n",
       "      <td>21680.099609</td>\n",
       "      <td>21681.150391</td>\n",
       "    </tr>\n",
       "    <tr>\n",
       "      <th>1498</th>\n",
       "      <td>21682.400391</td>\n",
       "      <td>21693.699219</td>\n",
       "      <td>21681.750000</td>\n",
       "      <td>21690.300781</td>\n",
       "    </tr>\n",
       "  </tbody>\n",
       "</table>\n",
       "<p>1499 rows × 4 columns</p>\n",
       "</div>"
      ],
      "text/plain": [
       "              Open          High           Low         Close\n",
       "0     21433.099609  21477.150391  21433.099609  21476.349609\n",
       "1     21476.449219  21480.349609  21463.449219  21475.800781\n",
       "2     21475.949219  21483.500000  21467.199219  21469.349609\n",
       "3     21467.099609  21479.650391  21462.050781  21474.949219\n",
       "4     21475.300781  21479.400391  21469.699219  21476.300781\n",
       "...            ...           ...           ...           ...\n",
       "1494  21698.650391  21700.000000  21694.800781  21696.199219\n",
       "1495  21696.150391  21697.449219  21692.349609  21693.949219\n",
       "1496  21694.699219  21694.699219  21690.650391  21691.400391\n",
       "1497  21692.000000  21692.000000  21680.099609  21681.150391\n",
       "1498  21682.400391  21693.699219  21681.750000  21690.300781\n",
       "\n",
       "[1499 rows x 4 columns]"
      ]
     },
     "execution_count": 6,
     "metadata": {},
     "output_type": "execute_result"
    }
   ],
   "source": [
    "data.drop(['Datetime','Adj Close'],axis=1,inplace=True)\n",
    "data"
   ]
  },
  {
   "cell_type": "code",
   "execution_count": 7,
   "metadata": {},
   "outputs": [
    {
     "name": "stdout",
     "output_type": "stream",
     "text": [
      "              Open          High           Low\n",
      "0     21433.099609  21477.150391  21433.099609\n",
      "1     21476.449219  21480.349609  21463.449219\n",
      "2     21475.949219  21483.500000  21467.199219\n",
      "3     21467.099609  21479.650391  21462.050781\n",
      "4     21475.300781  21479.400391  21469.699219\n",
      "...            ...           ...           ...\n",
      "1494  21698.650391  21700.000000  21694.800781\n",
      "1495  21696.150391  21697.449219  21692.349609\n",
      "1496  21694.699219  21694.699219  21690.650391\n",
      "1497  21692.000000  21692.000000  21680.099609\n",
      "1498  21682.400391  21693.699219  21681.750000\n",
      "\n",
      "[1499 rows x 3 columns]\n"
     ]
    }
   ],
   "source": [
    "X=data.drop(['Close'],axis=1)\n",
    "print(X)\n",
    "y=data['Close']\n"
   ]
  },
  {
   "cell_type": "code",
   "execution_count": 8,
   "metadata": {},
   "outputs": [],
   "source": [
    "model = RandomForestRegressor(n_estimators=100,random_state=0)\n",
    "X_train,X_test,y_train,y_test=train_test_split(X,y,test_size=0.2,random_state=0)"
   ]
  },
  {
   "cell_type": "code",
   "execution_count": 9,
   "metadata": {},
   "outputs": [
    {
     "data": {
      "text/html": [
       "<style>#sk-container-id-1 {color: black;}#sk-container-id-1 pre{padding: 0;}#sk-container-id-1 div.sk-toggleable {background-color: white;}#sk-container-id-1 label.sk-toggleable__label {cursor: pointer;display: block;width: 100%;margin-bottom: 0;padding: 0.3em;box-sizing: border-box;text-align: center;}#sk-container-id-1 label.sk-toggleable__label-arrow:before {content: \"▸\";float: left;margin-right: 0.25em;color: #696969;}#sk-container-id-1 label.sk-toggleable__label-arrow:hover:before {color: black;}#sk-container-id-1 div.sk-estimator:hover label.sk-toggleable__label-arrow:before {color: black;}#sk-container-id-1 div.sk-toggleable__content {max-height: 0;max-width: 0;overflow: hidden;text-align: left;background-color: #f0f8ff;}#sk-container-id-1 div.sk-toggleable__content pre {margin: 0.2em;color: black;border-radius: 0.25em;background-color: #f0f8ff;}#sk-container-id-1 input.sk-toggleable__control:checked~div.sk-toggleable__content {max-height: 200px;max-width: 100%;overflow: auto;}#sk-container-id-1 input.sk-toggleable__control:checked~label.sk-toggleable__label-arrow:before {content: \"▾\";}#sk-container-id-1 div.sk-estimator input.sk-toggleable__control:checked~label.sk-toggleable__label {background-color: #d4ebff;}#sk-container-id-1 div.sk-label input.sk-toggleable__control:checked~label.sk-toggleable__label {background-color: #d4ebff;}#sk-container-id-1 input.sk-hidden--visually {border: 0;clip: rect(1px 1px 1px 1px);clip: rect(1px, 1px, 1px, 1px);height: 1px;margin: -1px;overflow: hidden;padding: 0;position: absolute;width: 1px;}#sk-container-id-1 div.sk-estimator {font-family: monospace;background-color: #f0f8ff;border: 1px dotted black;border-radius: 0.25em;box-sizing: border-box;margin-bottom: 0.5em;}#sk-container-id-1 div.sk-estimator:hover {background-color: #d4ebff;}#sk-container-id-1 div.sk-parallel-item::after {content: \"\";width: 100%;border-bottom: 1px solid gray;flex-grow: 1;}#sk-container-id-1 div.sk-label:hover label.sk-toggleable__label {background-color: #d4ebff;}#sk-container-id-1 div.sk-serial::before {content: \"\";position: absolute;border-left: 1px solid gray;box-sizing: border-box;top: 0;bottom: 0;left: 50%;z-index: 0;}#sk-container-id-1 div.sk-serial {display: flex;flex-direction: column;align-items: center;background-color: white;padding-right: 0.2em;padding-left: 0.2em;position: relative;}#sk-container-id-1 div.sk-item {position: relative;z-index: 1;}#sk-container-id-1 div.sk-parallel {display: flex;align-items: stretch;justify-content: center;background-color: white;position: relative;}#sk-container-id-1 div.sk-item::before, #sk-container-id-1 div.sk-parallel-item::before {content: \"\";position: absolute;border-left: 1px solid gray;box-sizing: border-box;top: 0;bottom: 0;left: 50%;z-index: -1;}#sk-container-id-1 div.sk-parallel-item {display: flex;flex-direction: column;z-index: 1;position: relative;background-color: white;}#sk-container-id-1 div.sk-parallel-item:first-child::after {align-self: flex-end;width: 50%;}#sk-container-id-1 div.sk-parallel-item:last-child::after {align-self: flex-start;width: 50%;}#sk-container-id-1 div.sk-parallel-item:only-child::after {width: 0;}#sk-container-id-1 div.sk-dashed-wrapped {border: 1px dashed gray;margin: 0 0.4em 0.5em 0.4em;box-sizing: border-box;padding-bottom: 0.4em;background-color: white;}#sk-container-id-1 div.sk-label label {font-family: monospace;font-weight: bold;display: inline-block;line-height: 1.2em;}#sk-container-id-1 div.sk-label-container {text-align: center;}#sk-container-id-1 div.sk-container {/* jupyter's `normalize.less` sets `[hidden] { display: none; }` but bootstrap.min.css set `[hidden] { display: none !important; }` so we also need the `!important` here to be able to override the default hidden behavior on the sphinx rendered scikit-learn.org. See: https://github.com/scikit-learn/scikit-learn/issues/21755 */display: inline-block !important;position: relative;}#sk-container-id-1 div.sk-text-repr-fallback {display: none;}</style><div id=\"sk-container-id-1\" class=\"sk-top-container\"><div class=\"sk-text-repr-fallback\"><pre>RandomForestRegressor(random_state=0)</pre><b>In a Jupyter environment, please rerun this cell to show the HTML representation or trust the notebook. <br />On GitHub, the HTML representation is unable to render, please try loading this page with nbviewer.org.</b></div><div class=\"sk-container\" hidden><div class=\"sk-item\"><div class=\"sk-estimator sk-toggleable\"><input class=\"sk-toggleable__control sk-hidden--visually\" id=\"sk-estimator-id-1\" type=\"checkbox\" checked><label for=\"sk-estimator-id-1\" class=\"sk-toggleable__label sk-toggleable__label-arrow\">RandomForestRegressor</label><div class=\"sk-toggleable__content\"><pre>RandomForestRegressor(random_state=0)</pre></div></div></div></div></div>"
      ],
      "text/plain": [
       "RandomForestRegressor(random_state=0)"
      ]
     },
     "execution_count": 9,
     "metadata": {},
     "output_type": "execute_result"
    }
   ],
   "source": [
    "model.fit(X_train,y_train)\n"
   ]
  },
  {
   "cell_type": "code",
   "execution_count": 10,
   "metadata": {},
   "outputs": [],
   "source": [
    "y_pred=model.predict(X_test)\n"
   ]
  },
  {
   "cell_type": "code",
   "execution_count": 11,
   "metadata": {},
   "outputs": [
    {
     "data": {
      "text/plain": [
       "0.9956337970517509"
      ]
     },
     "execution_count": 11,
     "metadata": {},
     "output_type": "execute_result"
    }
   ],
   "source": [
    "model.score(X_test,y_test)"
   ]
  },
  {
   "cell_type": "code",
   "execution_count": 12,
   "metadata": {},
   "outputs": [
    {
     "name": "stdout",
     "output_type": "stream",
     "text": [
      "3.0128587239582947 0.9956337970517509\n"
     ]
    }
   ],
   "source": [
    "mae=mean_absolute_error(y_test,y_pred)\n",
    "r2ERROR= r2_score(y_test,y_pred)\n",
    "print(mae,r2ERROR)"
   ]
  },
  {
   "cell_type": "code",
   "execution_count": 14,
   "metadata": {},
   "outputs": [
    {
     "name": "stdout",
     "output_type": "stream",
     "text": [
      "Prediction ----------> :21692.0020703125\n",
      "mae : 1.7075343749999592\n",
      "r2 : 0.9924688483596561\n"
     ]
    }
   ],
   "source": [
    "# while True:\n",
    "import yfinance as yf \n",
    "import datetime as dt\n",
    "\n",
    "ticker = yf.Ticker('^NSEI')\n",
    "last_pred=0\n",
    "# while True:\n",
    "   \n",
    "data = ticker.history(interval='1m',start='2024-02-01',end='2024-02-02')\n",
    "\n",
    "data.reset_index(inplace=True)\n",
    "\n",
    "data.drop(['Datetime','Dividends','Stock Splits','Volume'],axis=1,inplace=True)\n",
    "\n",
    "y=data['Close']\n",
    "data.drop(['Close'],axis=1,inplace=True)\n",
    "\n",
    "prediction=model.predict(data)\n",
    "last_pred=prediction[-1]\n",
    "print(f'Prediction ----------> :{ last_pred}')\n",
    "print(f'mae : {mean_absolute_error(y,prediction)}')\n",
    "print(f'r2 : {r2_score(y,prediction)}')\n"
   ]
  },
  {
   "cell_type": "code",
   "execution_count": null,
   "metadata": {},
   "outputs": [],
   "source": [
    "\n",
    "import pickle \n",
    "\n",
    "pickle.dump(model,open('model_1m.pkl','wb'))"
   ]
  },
  {
   "cell_type": "code",
   "execution_count": null,
   "metadata": {},
   "outputs": [
    {
     "ename": "ModuleNotFoundError",
     "evalue": "No module named 'tensorflow'",
     "output_type": "error",
     "traceback": [
      "\u001b[0;31m---------------------------------------------------------------------------\u001b[0m",
      "\u001b[0;31mModuleNotFoundError\u001b[0m                       Traceback (most recent call last)",
      "Cell \u001b[0;32mIn[69], line 2\u001b[0m\n\u001b[1;32m      1\u001b[0m \u001b[38;5;28;01mfrom\u001b[39;00m \u001b[38;5;21;01msklearn\u001b[39;00m\u001b[38;5;21;01m.\u001b[39;00m\u001b[38;5;21;01mpreprocessing\u001b[39;00m \u001b[38;5;28;01mimport\u001b[39;00m MinMaxScaler\n\u001b[0;32m----> 2\u001b[0m \u001b[38;5;28;01mfrom\u001b[39;00m \u001b[38;5;21;01mtensorflow\u001b[39;00m\u001b[38;5;21;01m.\u001b[39;00m\u001b[38;5;21;01mkeras\u001b[39;00m\u001b[38;5;21;01m.\u001b[39;00m\u001b[38;5;21;01mmodels\u001b[39;00m \u001b[38;5;28;01mimport\u001b[39;00m Sequential\n\u001b[1;32m      3\u001b[0m \u001b[38;5;28;01mfrom\u001b[39;00m \u001b[38;5;21;01mtensorflow\u001b[39;00m\u001b[38;5;21;01m.\u001b[39;00m\u001b[38;5;21;01mkeras\u001b[39;00m\u001b[38;5;21;01m.\u001b[39;00m\u001b[38;5;21;01mlayers\u001b[39;00m \u001b[38;5;28;01mimport\u001b[39;00m Dense, LSTM\n\u001b[1;32m      5\u001b[0m \u001b[38;5;66;03m# Create a MinMaxScaler object\u001b[39;00m\n",
      "\u001b[0;31mModuleNotFoundError\u001b[0m: No module named 'tensorflow'"
     ]
    }
   ],
   "source": [
    "from sklearn.preprocessing import MinMaxScaler\n",
    "from tensorflow.keras.models import Sequential\n",
    "from tensorflow.keras.layers import Dense, LSTM\n",
    "\n",
    "# Create a MinMaxScaler object\n",
    "scaler = MinMaxScaler(feature_range=(0, 1))\n",
    "\n",
    "# Scale the data\n",
    "scaled_data = scaler.fit_transform(data)\n",
    "\n",
    "# Split the data into training and testing sets\n",
    "train_size = int(len(scaled_data) * 0.8)\n",
    "test_size = len(scaled_data) - train_size\n",
    "train_data = scaled_data[0:train_size, :]\n",
    "test_data = scaled_data[train_size:len(scaled_data), :]\n",
    "\n",
    "# Split the data into X and y\n",
    "X_train, y_train = train_data[:, 1:], train_data[:, 0]\n",
    "X_test, y_test = test_data[:, 1:], test_data[:, 0]\n",
    "\n",
    "# Reshape the data for LSTM input\n",
    "X_train = X_train.reshape((X_train.shape[0], 1, X_train.shape[1]))\n",
    "X_test = X_test.reshape((X_test.shape[0], 1, X_test.shape[1]))\n",
    "\n",
    "# Create the LSTM model\n",
    "model = Sequential()\n",
    "model.add(LSTM(50, input_shape=(X_train.shape[1], X_train.shape[2])))\n",
    "model.add(Dense(1))\n",
    "\n",
    "# Compile the model\n",
    "model.compile(loss='mean_squared_error', optimizer='adam')\n",
    "\n",
    "# Fit the model to the training data\n",
    "model.fit(X_train, y_train, epochs=10, batch_size=16, verbose=2)\n",
    "\n",
    "# Evaluate the model on the testing data\n",
    "model.evaluate(X_test, y_test)\n"
   ]
  }
 ],
 "metadata": {
  "kernelspec": {
   "display_name": "Python 3",
   "language": "python",
   "name": "python3"
  },
  "language_info": {
   "codemirror_mode": {
    "name": "ipython",
    "version": 3
   },
   "file_extension": ".py",
   "mimetype": "text/x-python",
   "name": "python",
   "nbconvert_exporter": "python",
   "pygments_lexer": "ipython3",
   "version": "3.10.12"
  }
 },
 "nbformat": 4,
 "nbformat_minor": 2
}
