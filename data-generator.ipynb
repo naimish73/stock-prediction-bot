{
  "nbformat": 4,
  "nbformat_minor": 0,
  "metadata": {
    "colab": {
      "provenance": [],
      "authorship_tag": "ABX9TyNHlK+ASj+BUtywN703/GgZ",
      "include_colab_link": true
    },
    "kernelspec": {
      "name": "python3",
      "display_name": "Python 3"
    },
    "language_info": {
      "name": "python"
    }
  },
  "cells": [
    {
      "cell_type": "markdown",
      "metadata": {
        "id": "view-in-github",
        "colab_type": "text"
      },
      "source": [
        "<a href=\"https://colab.research.google.com/github/naimish73/stock-prediction-bot/blob/main/data-generator.ipynb\" target=\"_parent\"><img src=\"https://colab.research.google.com/assets/colab-badge.svg\" alt=\"Open In Colab\"/></a>"
      ]
    },
    {
      "cell_type": "code",
      "execution_count": 2,
      "metadata": {
        "colab": {
          "base_uri": "https://localhost:8080/"
        },
        "id": "RIzz6oKdsppA",
        "outputId": "c29bf69e-fe51-4500-dda8-95900b3bd529"
      },
      "outputs": [
        {
          "output_type": "stream",
          "name": "stderr",
          "text": [
            "[*********************100%%**********************]  1 of 1 completed\n",
            "<ipython-input-2-ee4b840127af>:37: FutureWarning: The frame.append method is deprecated and will be removed from pandas in a future version. Use pandas.concat instead.\n",
            "  combined_data = combined_data.append(data)  # Append data to the DataFrame\n",
            "[*********************100%%**********************]  1 of 1 completed\n",
            "<ipython-input-2-ee4b840127af>:37: FutureWarning: The frame.append method is deprecated and will be removed from pandas in a future version. Use pandas.concat instead.\n",
            "  combined_data = combined_data.append(data)  # Append data to the DataFrame\n",
            "[*********************100%%**********************]  1 of 1 completed\n",
            "<ipython-input-2-ee4b840127af>:37: FutureWarning: The frame.append method is deprecated and will be removed from pandas in a future version. Use pandas.concat instead.\n",
            "  combined_data = combined_data.append(data)  # Append data to the DataFrame\n",
            "[*********************100%%**********************]  1 of 1 completed\n",
            "ERROR:yfinance:\n",
            "1 Failed download:\n",
            "ERROR:yfinance:['TCS.NS']: Exception('%ticker%: Invalid input - interval=10m is not supported. Valid intervals: [1m, 2m, 5m, 15m, 30m, 60m, 90m, 1h, 1d, 5d, 1wk, 1mo, 3mo]')\n",
            "<ipython-input-2-ee4b840127af>:37: FutureWarning: The frame.append method is deprecated and will be removed from pandas in a future version. Use pandas.concat instead.\n",
            "  combined_data = combined_data.append(data)  # Append data to the DataFrame\n",
            "[*********************100%%**********************]  1 of 1 completed\n",
            "<ipython-input-2-ee4b840127af>:37: FutureWarning: The frame.append method is deprecated and will be removed from pandas in a future version. Use pandas.concat instead.\n",
            "  combined_data = combined_data.append(data)  # Append data to the DataFrame\n",
            "[*********************100%%**********************]  1 of 1 completed\n",
            "<ipython-input-2-ee4b840127af>:37: FutureWarning: The frame.append method is deprecated and will be removed from pandas in a future version. Use pandas.concat instead.\n",
            "  combined_data = combined_data.append(data)  # Append data to the DataFrame\n",
            "[*********************100%%**********************]  1 of 1 completed\n",
            "<ipython-input-2-ee4b840127af>:37: FutureWarning: The frame.append method is deprecated and will be removed from pandas in a future version. Use pandas.concat instead.\n",
            "  combined_data = combined_data.append(data)  # Append data to the DataFrame\n",
            "[*********************100%%**********************]  1 of 1 completed\n",
            "<ipython-input-2-ee4b840127af>:37: FutureWarning: The frame.append method is deprecated and will be removed from pandas in a future version. Use pandas.concat instead.\n",
            "  combined_data = combined_data.append(data)  # Append data to the DataFrame\n",
            "[*********************100%%**********************]  1 of 1 completed\n",
            "<ipython-input-2-ee4b840127af>:37: FutureWarning: The frame.append method is deprecated and will be removed from pandas in a future version. Use pandas.concat instead.\n",
            "  combined_data = combined_data.append(data)  # Append data to the DataFrame\n",
            "[*********************100%%**********************]  1 of 1 completed\n",
            "<ipython-input-2-ee4b840127af>:37: FutureWarning: The frame.append method is deprecated and will be removed from pandas in a future version. Use pandas.concat instead.\n",
            "  combined_data = combined_data.append(data)  # Append data to the DataFrame\n",
            "[*********************100%%**********************]  1 of 1 completed\n",
            "<ipython-input-2-ee4b840127af>:37: FutureWarning: The frame.append method is deprecated and will be removed from pandas in a future version. Use pandas.concat instead.\n",
            "  combined_data = combined_data.append(data)  # Append data to the DataFrame\n",
            "[*********************100%%**********************]  1 of 1 completed\n",
            "<ipython-input-2-ee4b840127af>:37: FutureWarning: The frame.append method is deprecated and will be removed from pandas in a future version. Use pandas.concat instead.\n",
            "  combined_data = combined_data.append(data)  # Append data to the DataFrame\n",
            "[*********************100%%**********************]  1 of 1 completed\n",
            "<ipython-input-2-ee4b840127af>:37: FutureWarning: The frame.append method is deprecated and will be removed from pandas in a future version. Use pandas.concat instead.\n",
            "  combined_data = combined_data.append(data)  # Append data to the DataFrame\n",
            "[*********************100%%**********************]  1 of 1 completed\n",
            "ERROR:yfinance:\n",
            "1 Failed download:\n",
            "ERROR:yfinance:['TCS.NS']: Exception('%ticker%: Invalid input - interval=6mo is not supported. Valid intervals: [1m, 2m, 5m, 15m, 30m, 60m, 90m, 1h, 1d, 5d, 1wk, 1mo, 3mo]')\n",
            "<ipython-input-2-ee4b840127af>:37: FutureWarning: The frame.append method is deprecated and will be removed from pandas in a future version. Use pandas.concat instead.\n",
            "  combined_data = combined_data.append(data)  # Append data to the DataFrame\n",
            "[*********************100%%**********************]  1 of 1 completed\n",
            "ERROR:yfinance:\n",
            "1 Failed download:\n",
            "ERROR:yfinance:['TCS.NS']: Exception('%ticker%: Invalid input - interval=1y is not supported. Valid intervals: [1m, 2m, 5m, 15m, 30m, 60m, 90m, 1h, 1d, 5d, 1wk, 1mo, 3mo]')\n",
            "<ipython-input-2-ee4b840127af>:37: FutureWarning: The frame.append method is deprecated and will be removed from pandas in a future version. Use pandas.concat instead.\n",
            "  combined_data = combined_data.append(data)  # Append data to the DataFrame\n",
            "[*********************100%%**********************]  1 of 1 completed\n",
            "ERROR:yfinance:\n",
            "1 Failed download:\n",
            "ERROR:yfinance:['TCS.NS']: Exception('%ticker%: Invalid input - interval=2y is not supported. Valid intervals: [1m, 2m, 5m, 15m, 30m, 60m, 90m, 1h, 1d, 5d, 1wk, 1mo, 3mo]')\n",
            "<ipython-input-2-ee4b840127af>:37: FutureWarning: The frame.append method is deprecated and will be removed from pandas in a future version. Use pandas.concat instead.\n",
            "  combined_data = combined_data.append(data)  # Append data to the DataFrame\n",
            "[*********************100%%**********************]  1 of 1 completed\n",
            "ERROR:yfinance:\n",
            "1 Failed download:\n",
            "ERROR:yfinance:['TCS.NS']: Exception('%ticker%: Invalid input - interval=5y is not supported. Valid intervals: [1m, 2m, 5m, 15m, 30m, 60m, 90m, 1h, 1d, 5d, 1wk, 1mo, 3mo]')\n",
            "<ipython-input-2-ee4b840127af>:37: FutureWarning: The frame.append method is deprecated and will be removed from pandas in a future version. Use pandas.concat instead.\n",
            "  combined_data = combined_data.append(data)  # Append data to the DataFrame\n",
            "[*********************100%%**********************]  1 of 1 completed\n",
            "ERROR:yfinance:\n",
            "1 Failed download:\n",
            "ERROR:yfinance:['TCS.NS']: Exception('%ticker%: Invalid input - interval=10y is not supported. Valid intervals: [1m, 2m, 5m, 15m, 30m, 60m, 90m, 1h, 1d, 5d, 1wk, 1mo, 3mo]')\n",
            "<ipython-input-2-ee4b840127af>:37: FutureWarning: The frame.append method is deprecated and will be removed from pandas in a future version. Use pandas.concat instead.\n",
            "  combined_data = combined_data.append(data)  # Append data to the DataFrame\n",
            "[*********************100%%**********************]  1 of 1 completed\n",
            "ERROR:yfinance:\n",
            "1 Failed download:\n",
            "ERROR:yfinance:['TCS.NS']: Exception('%ticker%: Invalid input - interval=ytd is not supported. Valid intervals: [1m, 2m, 5m, 15m, 30m, 60m, 90m, 1h, 1d, 5d, 1wk, 1mo, 3mo]')\n"
          ]
        },
        {
          "output_type": "stream",
          "name": "stdout",
          "text": [
            "All data downloaded and saved to CSV successfully...\n"
          ]
        },
        {
          "output_type": "stream",
          "name": "stderr",
          "text": [
            "<ipython-input-2-ee4b840127af>:37: FutureWarning: The frame.append method is deprecated and will be removed from pandas in a future version. Use pandas.concat instead.\n",
            "  combined_data = combined_data.append(data)  # Append data to the DataFrame\n"
          ]
        }
      ],
      "source": [
        "import pandas as pd\n",
        "import yfinance as yf\n",
        "\n",
        "def fetch_stock_livetime_data(symbol, period, interval):\n",
        "    stock_data = yf.download(symbol, period=period, interval=interval)\n",
        "    stock_data['timeframe'] = interval\n",
        "    return stock_data\n",
        "\n",
        "def main():\n",
        "    symbol = 'TCS.NS'\n",
        "    timeframes = {\n",
        "        \"1m\": \"1d\",\n",
        "        \"2m\": \"1d\",\n",
        "        \"5m\": \"1d\",\n",
        "        \"10m\": \"1d\",\n",
        "        \"15m\": \"1d\",\n",
        "        \"30m\": \"60d\",\n",
        "        \"60m\": \"60d\",\n",
        "        \"90m\": \"60d\",\n",
        "        \"1d\": \"max\",\n",
        "        \"5d\": \"max\",\n",
        "        \"1wk\": \"max\",\n",
        "        \"1mo\": \"max\",\n",
        "        \"3mo\": \"max\",\n",
        "        \"6mo\": \"max\",\n",
        "        \"1y\": \"max\",\n",
        "        \"2y\": \"max\",\n",
        "        \"5y\": \"max\",\n",
        "        \"10y\": \"max\",\n",
        "        \"ytd\": \"max\",\n",
        "    }\n",
        "\n",
        "    try:\n",
        "        combined_data = pd.DataFrame()  # Initialize an empty DataFrame\n",
        "        for timeframe, period in timeframes.items():\n",
        "            data = fetch_stock_livetime_data(symbol, period, timeframe)\n",
        "            combined_data = combined_data.append(data)  # Append data to the DataFrame\n",
        "\n",
        "        combined_data.to_csv('TCS.NS.csv')\n",
        "        print('All data downloaded and saved to CSV successfully...')\n",
        "    except Exception as e:\n",
        "        print(f'Error: {e}')\n",
        "\n",
        "if __name__ == '__main__':\n",
        "    main()\n"
      ]
    }
  ]
}