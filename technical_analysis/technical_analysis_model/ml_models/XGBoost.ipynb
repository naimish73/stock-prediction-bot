{
 "cells": [
  {
   "cell_type": "code",
   "execution_count": 3,
   "metadata": {},
   "outputs": [
    {
     "name": "stdout",
     "output_type": "stream",
     "text": [
      "Requirement already satisfied: xgboost in /home/neo/Desktop/prime/sem6/stock_trading_bot/venv/lib/python3.10/site-packages (2.0.3)\n",
      "Requirement already satisfied: scipy in /home/neo/Desktop/prime/sem6/stock_trading_bot/venv/lib/python3.10/site-packages (from xgboost) (1.12.0)\n",
      "Requirement already satisfied: numpy in /home/neo/Desktop/prime/sem6/stock_trading_bot/venv/lib/python3.10/site-packages (from xgboost) (1.26.3)\n",
      "Note: you may need to restart the kernel to use updated packages.\n"
     ]
    }
   ],
   "source": [
    "import yfinance as yf\n",
    "import joblib\n",
    "%pip install xgboost\n",
    "import xgboost as xgb\n",
    "from sklearn.model_selection import train_test_split\n",
    "from sklearn.metrics import mean_squared_error\n",
    "from sklearn.preprocessing import StandardScaler\n",
    "\n",
    "# Function to fetch latest data and train the model\n",
    "def fetch_data_and_train_model():\n",
    "    # Fetch latest data\n",
    "    symbol = \"^NSEI\"\n",
    "    ticker = yf.Ticker(symbol)\n",
    "    data = ticker.history(interval=\"1m\", period=\"7d\")\n",
    "    data.drop(columns=['Volume', 'Dividends', 'Stock Splits'], inplace=True)\n",
    "\n",
    "    # Prepare data for training\n",
    "    X = data[['Open', 'High', 'Low', 'Close']]\n",
    "    y = data['Close'].shift(-1)  # Predicting closing price of the next minute\n",
    "\n",
    "    # Remove rows with NaN target (last row)\n",
    "    X = X[:-1]\n",
    "    y = y[:-1]\n",
    "\n",
    "    # Feature scaling\n",
    "    scaler = StandardScaler()\n",
    "    X_scaled = scaler.fit_transform(X)\n",
    "\n",
    "    # Train-test split\n",
    "    X_train, X_test, y_train, y_test = train_test_split(X_scaled, y, test_size=0.2, random_state=42)\n",
    "\n",
    "    # Train XGBoost model\n",
    "    model = xgb.XGBRegressor(objective ='reg:squarederror', colsample_bytree = 0.3, learning_rate = 0.1,\n",
    "                              max_depth = 5, alpha = 10, n_estimators = 100)\n",
    "    model.fit(X_train, y_train)\n",
    "\n",
    "    # Save the model and scaler as a .pkl file\n",
    "    joblib.dump((model, scaler), '../../technical_analysis_model/model_pkl_files/xgboost_model.pkl')\n",
    "\n",
    "# Train the model on latest data\n",
    "fetch_data_and_train_model()\n"
   ]
  },
  {
   "cell_type": "code",
   "execution_count": null,
   "metadata": {},
   "outputs": [],
   "source": []
  }
 ],
 "metadata": {
  "kernelspec": {
   "display_name": "venv",
   "language": "python",
   "name": "python3"
  },
  "language_info": {
   "codemirror_mode": {
    "name": "ipython",
    "version": 3
   },
   "file_extension": ".py",
   "mimetype": "text/x-python",
   "name": "python",
   "nbconvert_exporter": "python",
   "pygments_lexer": "ipython3",
   "version": "3.10.12"
  }
 },
 "nbformat": 4,
 "nbformat_minor": 2
}
