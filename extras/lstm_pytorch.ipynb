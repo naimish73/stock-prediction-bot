{
 "cells": [
  {
   "cell_type": "code",
   "execution_count": 1,
   "metadata": {},
   "outputs": [],
   "source": [
    "import pandas as pd\n",
    "import numpy as np\n",
    "import matplotlib.pyplot as plt\n",
    "\n",
    "import torch\n",
    "import torch.nn as nn"
   ]
  },
  {
   "cell_type": "code",
   "execution_count": 2,
   "metadata": {},
   "outputs": [
    {
     "data": {
      "text/html": [
       "<div>\n",
       "<style scoped>\n",
       "    .dataframe tbody tr th:only-of-type {\n",
       "        vertical-align: middle;\n",
       "    }\n",
       "\n",
       "    .dataframe tbody tr th {\n",
       "        vertical-align: top;\n",
       "    }\n",
       "\n",
       "    .dataframe thead th {\n",
       "        text-align: right;\n",
       "    }\n",
       "</style>\n",
       "<table border=\"1\" class=\"dataframe\">\n",
       "  <thead>\n",
       "    <tr style=\"text-align: right;\">\n",
       "      <th></th>\n",
       "      <th>Date</th>\n",
       "      <th>Open</th>\n",
       "      <th>High</th>\n",
       "      <th>Low</th>\n",
       "      <th>Close</th>\n",
       "      <th>Adj Close</th>\n",
       "      <th>Volume</th>\n",
       "      <th>timeframe</th>\n",
       "    </tr>\n",
       "  </thead>\n",
       "  <tbody>\n",
       "    <tr>\n",
       "      <th>0</th>\n",
       "      <td>2002-08-12</td>\n",
       "      <td>38.724998</td>\n",
       "      <td>40.000000</td>\n",
       "      <td>38.724998</td>\n",
       "      <td>39.700001</td>\n",
       "      <td>27.998854</td>\n",
       "      <td>212976.0</td>\n",
       "      <td>1d</td>\n",
       "    </tr>\n",
       "    <tr>\n",
       "      <th>1</th>\n",
       "      <td>2002-08-13</td>\n",
       "      <td>39.750000</td>\n",
       "      <td>40.387501</td>\n",
       "      <td>38.875000</td>\n",
       "      <td>39.162498</td>\n",
       "      <td>27.619785</td>\n",
       "      <td>153576.0</td>\n",
       "      <td>1d</td>\n",
       "    </tr>\n",
       "    <tr>\n",
       "      <th>2</th>\n",
       "      <td>2002-08-14</td>\n",
       "      <td>39.250000</td>\n",
       "      <td>39.250000</td>\n",
       "      <td>35.724998</td>\n",
       "      <td>36.462502</td>\n",
       "      <td>25.715569</td>\n",
       "      <td>822776.0</td>\n",
       "      <td>1d</td>\n",
       "    </tr>\n",
       "    <tr>\n",
       "      <th>3</th>\n",
       "      <td>2002-08-15</td>\n",
       "      <td>36.462502</td>\n",
       "      <td>36.462502</td>\n",
       "      <td>36.462502</td>\n",
       "      <td>36.462502</td>\n",
       "      <td>25.715569</td>\n",
       "      <td>0.0</td>\n",
       "      <td>1d</td>\n",
       "    </tr>\n",
       "    <tr>\n",
       "      <th>4</th>\n",
       "      <td>2002-08-16</td>\n",
       "      <td>36.275002</td>\n",
       "      <td>38.000000</td>\n",
       "      <td>35.750000</td>\n",
       "      <td>36.375000</td>\n",
       "      <td>25.653860</td>\n",
       "      <td>811856.0</td>\n",
       "      <td>1d</td>\n",
       "    </tr>\n",
       "  </tbody>\n",
       "</table>\n",
       "</div>"
      ],
      "text/plain": [
       "         Date       Open       High        Low      Close  Adj Close  \\\n",
       "0  2002-08-12  38.724998  40.000000  38.724998  39.700001  27.998854   \n",
       "1  2002-08-13  39.750000  40.387501  38.875000  39.162498  27.619785   \n",
       "2  2002-08-14  39.250000  39.250000  35.724998  36.462502  25.715569   \n",
       "3  2002-08-15  36.462502  36.462502  36.462502  36.462502  25.715569   \n",
       "4  2002-08-16  36.275002  38.000000  35.750000  36.375000  25.653860   \n",
       "\n",
       "     Volume timeframe  \n",
       "0  212976.0        1d  \n",
       "1  153576.0        1d  \n",
       "2  822776.0        1d  \n",
       "3       0.0        1d  \n",
       "4  811856.0        1d  "
      ]
     },
     "execution_count": 2,
     "metadata": {},
     "output_type": "execute_result"
    }
   ],
   "source": [
    "dataset = pd.read_csv('dataset/long_term_TCS.NS.csv')\n",
    "dataset.head()"
   ]
  },
  {
   "cell_type": "code",
   "execution_count": 9,
   "metadata": {},
   "outputs": [
    {
     "name": "stderr",
     "output_type": "stream",
     "text": [
      "/tmp/ipykernel_27317/2653096151.py:5: SettingWithCopyWarning: \n",
      "A value is trying to be set on a copy of a slice from a DataFrame.\n",
      "Try using .loc[row_indexer,col_indexer] = value instead\n",
      "\n",
      "See the caveats in the documentation: https://pandas.pydata.org/pandas-docs/stable/user_guide/indexing.html#returning-a-view-versus-a-copy\n",
      "  price['Close'] = scaler.fit_transform(price['Close'].values.reshape(-1,1))\n"
     ]
    },
    {
     "data": {
      "text/html": [
       "<div>\n",
       "<style scoped>\n",
       "    .dataframe tbody tr th:only-of-type {\n",
       "        vertical-align: middle;\n",
       "    }\n",
       "\n",
       "    .dataframe tbody tr th {\n",
       "        vertical-align: top;\n",
       "    }\n",
       "\n",
       "    .dataframe thead th {\n",
       "        text-align: right;\n",
       "    }\n",
       "</style>\n",
       "<table border=\"1\" class=\"dataframe\">\n",
       "  <thead>\n",
       "    <tr style=\"text-align: right;\">\n",
       "      <th></th>\n",
       "      <th>Close</th>\n",
       "    </tr>\n",
       "  </thead>\n",
       "  <tbody>\n",
       "    <tr>\n",
       "      <th>0</th>\n",
       "      <td>-0.997946</td>\n",
       "    </tr>\n",
       "    <tr>\n",
       "      <th>1</th>\n",
       "      <td>-0.998207</td>\n",
       "    </tr>\n",
       "    <tr>\n",
       "      <th>2</th>\n",
       "      <td>-0.999520</td>\n",
       "    </tr>\n",
       "    <tr>\n",
       "      <th>3</th>\n",
       "      <td>-0.999520</td>\n",
       "    </tr>\n",
       "    <tr>\n",
       "      <th>4</th>\n",
       "      <td>-0.999562</td>\n",
       "    </tr>\n",
       "  </tbody>\n",
       "</table>\n",
       "</div>"
      ],
      "text/plain": [
       "      Close\n",
       "0 -0.997946\n",
       "1 -0.998207\n",
       "2 -0.999520\n",
       "3 -0.999520\n",
       "4 -0.999562"
      ]
     },
     "execution_count": 9,
     "metadata": {},
     "output_type": "execute_result"
    }
   ],
   "source": [
    "from sklearn.preprocessing import MinMaxScaler\n",
    "\n",
    "price = dataset[['Close']]\n",
    "scaler = MinMaxScaler(feature_range=(-1,1))\n",
    "price['Close'] = scaler.fit_transform(price['Close'].values.reshape(-1,1))\n",
    "price.head()"
   ]
  },
  {
   "cell_type": "code",
   "execution_count": 10,
   "metadata": {},
   "outputs": [],
   "source": [
    "def split_data(stock, lookback):\n",
    "    data_raw = stock.to_numpy()\n",
    "    data = []\n",
    "\n",
    "    for index in range(len(data_raw) - lookback):\n",
    "        data.append(data_raw[index: index + lookback])\n",
    "    \n",
    "    data = np.array(data)\n",
    "    \n",
    "    test_set_size = int(np.round(0.2 * data.shape[0]))\n",
    "    train_set_size = data.shape[0] - test_set_size\n",
    "\n",
    "    x_train = data[:train_set_size, :-1, :]\n",
    "    y_train = data[:train_set_size, -1, :]\n",
    "\n",
    "    x_test = data[train_set_size:, :-1]\n",
    "    y_test = data[train_set_size:, -1, :]\n",
    "\n",
    "    return [x_train, y_train, x_test, y_test]\n",
    "\n",
    "lookback = 20\n",
    "x_train, y_train, x_test, y_test = split_data(price, lookback)"
   ]
  },
  {
   "cell_type": "code",
   "execution_count": 11,
   "metadata": {},
   "outputs": [],
   "source": [
    "x_train = torch.from_numpy(x_train).type(torch.Tensor)\n",
    "x_text = torch.from_numpy(x_test).type(torch.Tensor)\n",
    "\n",
    "y_train = torch.from_numpy(y_train).type(torch.Tensor)\n",
    "y_test = torch.from_numpy(y_test).type(torch.Tensor)"
   ]
  },
  {
   "cell_type": "code",
   "execution_count": 12,
   "metadata": {},
   "outputs": [],
   "source": [
    "input_dim = 1\n",
    "hidden_dim = 32\n",
    "num_layer = 2\n",
    "output_dim = 1\n",
    "num_epoch = 100"
   ]
  },
  {
   "cell_type": "code",
   "execution_count": 34,
   "metadata": {},
   "outputs": [],
   "source": [
    "class LSTM(nn.Module):\n",
    "    def __init__(self, input_dim, hidden_dim, num_layer, output_dim):\n",
    "        super(LSTM, self).__init__()\n",
    "        self.hidden_dim = hidden_dim\n",
    "        self.num_layer = num_layer\n",
    "\n",
    "        self.lstm = nn.LSTM(input_dim, hidden_dim, num_layer, batch_first=True)\n",
    "        self.fc = nn.Linear(hidden_dim, output_dim)\n",
    "\n",
    "    def forward(self, x):\n",
    "        h0 = torch.zeros(self.num_layer, x.size(0), self.hidden_dim).requires_grad_()\n",
    "        c0 = torch.zeros(self.num_layer, x.size(0), self.hidden_dim).requires_grad_()\n",
    "\n",
    "        out, (hn, cn) = self.lstm(x, (h0.detach(), c0.detach()))\n",
    "        out = self.fc(out[:, -1, :])\n",
    "        return out"
   ]
  },
  {
   "cell_type": "code",
   "execution_count": 35,
   "metadata": {},
   "outputs": [],
   "source": [
    "model = LSTM(input_dim=input_dim, hidden_dim=hidden_dim, output_dim=output_dim, num_layer=num_layer)\n",
    "criterion = torch.nn.MSELoss(reduction='mean')\n",
    "optimiser = torch.optim.Adam(model.parameters(), lr=0.01)"
   ]
  },
  {
   "cell_type": "code",
   "execution_count": 36,
   "metadata": {},
   "outputs": [
    {
     "name": "stdout",
     "output_type": "stream",
     "text": [
      "Epoch: 0 MSE:  0.47905245423316956\n",
      "Epoch: 1 MSE:  0.34873253107070923\n",
      "Epoch: 2 MSE:  0.2551478147506714\n",
      "Epoch: 3 MSE:  0.2754489779472351\n",
      "Epoch: 4 MSE:  0.217691570520401\n",
      "Epoch: 5 MSE:  0.1800876259803772\n",
      "Epoch: 6 MSE:  0.16005946695804596\n",
      "Epoch: 7 MSE:  0.12292749434709549\n",
      "Epoch: 8 MSE:  0.06985468417406082\n",
      "Epoch: 9 MSE:  0.08609787374734879\n",
      "Epoch: 10 MSE:  0.03785623237490654\n",
      "Epoch: 11 MSE:  0.03567373752593994\n",
      "Epoch: 12 MSE:  0.0495755672454834\n",
      "Epoch: 13 MSE:  0.03490658849477768\n",
      "Epoch: 14 MSE:  0.021855829283595085\n",
      "Epoch: 15 MSE:  0.022656584158539772\n",
      "Epoch: 16 MSE:  0.02084708958864212\n",
      "Epoch: 17 MSE:  0.013498027808964252\n",
      "Epoch: 18 MSE:  0.01113247312605381\n",
      "Epoch: 19 MSE:  0.014797046780586243\n",
      "Epoch: 20 MSE:  0.01868618093430996\n",
      "Epoch: 21 MSE:  0.01877843774855137\n",
      "Epoch: 22 MSE:  0.015296597965061665\n",
      "Epoch: 23 MSE:  0.011384827084839344\n",
      "Epoch: 24 MSE:  0.010290606878697872\n",
      "Epoch: 25 MSE:  0.011714480817317963\n",
      "Epoch: 26 MSE:  0.01167443860322237\n",
      "Epoch: 27 MSE:  0.008534058928489685\n",
      "Epoch: 28 MSE:  0.0052705430425703526\n",
      "Epoch: 29 MSE:  0.004649089649319649\n",
      "Epoch: 30 MSE:  0.005790047813206911\n",
      "Epoch: 31 MSE:  0.006020679138600826\n",
      "Epoch: 32 MSE:  0.004443847108632326\n",
      "Epoch: 33 MSE:  0.0029666218906641006\n",
      "Epoch: 34 MSE:  0.0035401880741119385\n",
      "Epoch: 35 MSE:  0.004756782203912735\n",
      "Epoch: 36 MSE:  0.0042930347844958305\n",
      "Epoch: 37 MSE:  0.0033629920799285173\n",
      "Epoch: 38 MSE:  0.0036789043806493282\n",
      "Epoch: 39 MSE:  0.004090467002242804\n",
      "Epoch: 40 MSE:  0.0034082424826920033\n",
      "Epoch: 41 MSE:  0.0026422825176268816\n",
      "Epoch: 42 MSE:  0.002885550493374467\n",
      "Epoch: 43 MSE:  0.0031601605005562305\n",
      "Epoch: 44 MSE:  0.0025572204031050205\n",
      "Epoch: 45 MSE:  0.0020645870827138424\n",
      "Epoch: 46 MSE:  0.002335457829758525\n",
      "Epoch: 47 MSE:  0.0026446168776601553\n",
      "Epoch: 48 MSE:  0.002447918290272355\n",
      "Epoch: 49 MSE:  0.0021634618751704693\n",
      "Epoch: 50 MSE:  0.0022705397568643093\n",
      "Epoch: 51 MSE:  0.00247967685572803\n",
      "Epoch: 52 MSE:  0.0023776181042194366\n",
      "Epoch: 53 MSE:  0.0021858520340174437\n",
      "Epoch: 54 MSE:  0.002187230158597231\n",
      "Epoch: 55 MSE:  0.002213712316006422\n",
      "Epoch: 56 MSE:  0.0020927798468619585\n",
      "Epoch: 57 MSE:  0.001974670682102442\n",
      "Epoch: 58 MSE:  0.0019877187442034483\n",
      "Epoch: 59 MSE:  0.001980816712602973\n",
      "Epoch: 60 MSE:  0.001871940796263516\n",
      "Epoch: 61 MSE:  0.0018356676446273923\n",
      "Epoch: 62 MSE:  0.0019099529599770904\n",
      "Epoch: 63 MSE:  0.0019126730039715767\n",
      "Epoch: 64 MSE:  0.0018256779294461012\n",
      "Epoch: 65 MSE:  0.00181399576831609\n",
      "Epoch: 66 MSE:  0.001869690720923245\n",
      "Epoch: 67 MSE:  0.0018474165117368102\n",
      "Epoch: 68 MSE:  0.0017809380078688264\n",
      "Epoch: 69 MSE:  0.0017727967351675034\n",
      "Epoch: 70 MSE:  0.0017763670766726136\n",
      "Epoch: 71 MSE:  0.0017385503742843866\n",
      "Epoch: 72 MSE:  0.001711866701953113\n",
      "Epoch: 73 MSE:  0.001714769285172224\n",
      "Epoch: 74 MSE:  0.0016973315505310893\n",
      "Epoch: 75 MSE:  0.0016702122520655394\n",
      "Epoch: 76 MSE:  0.0016743293963372707\n",
      "Epoch: 77 MSE:  0.0016810985980555415\n",
      "Epoch: 78 MSE:  0.0016592363826930523\n",
      "Epoch: 79 MSE:  0.0016413192497566342\n",
      "Epoch: 80 MSE:  0.0016470137052237988\n",
      "Epoch: 81 MSE:  0.0016426666406914592\n",
      "Epoch: 82 MSE:  0.001619586837477982\n",
      "Epoch: 83 MSE:  0.001607084064744413\n",
      "Epoch: 84 MSE:  0.001604579039849341\n",
      "Epoch: 85 MSE:  0.0015922324964776635\n",
      "Epoch: 86 MSE:  0.0015778038650751114\n",
      "Epoch: 87 MSE:  0.0015722053358331323\n",
      "Epoch: 88 MSE:  0.0015646960819140077\n",
      "Epoch: 89 MSE:  0.0015536800492554903\n",
      "Epoch: 90 MSE:  0.0015489158686250448\n",
      "Epoch: 91 MSE:  0.0015439873095601797\n",
      "Epoch: 92 MSE:  0.0015326018910855055\n",
      "Epoch: 93 MSE:  0.001524576568044722\n",
      "Epoch: 94 MSE:  0.0015207813121378422\n",
      "Epoch: 95 MSE:  0.0015113656409084797\n",
      "Epoch: 96 MSE:  0.0015002578729763627\n",
      "Epoch: 97 MSE:  0.0014943677233532071\n",
      "Epoch: 98 MSE:  0.0014877389185130596\n",
      "Epoch: 99 MSE:  0.0014779315097257495\n",
      "Training time: 19.310494422912598\n"
     ]
    }
   ],
   "source": [
    "import time\n",
    "\n",
    "hist = np.zeros(num_epoch)\n",
    "start_time = time.time()\n",
    "lstm = []\n",
    "\n",
    "for t in range(num_epoch):\n",
    "    y_train_pred = model(x_train)\n",
    "\n",
    "    loss = criterion(y_train_pred, y_train)\n",
    "    print('Epoch:', t, \"MSE: \", loss.item())\n",
    "    hist[t] = loss.item()\n",
    "\n",
    "    optimiser.zero_grad()\n",
    "    loss.backward()\n",
    "    optimiser.step()\n",
    "\n",
    "training_time = time.time() - start_time\n",
    "print(f\"Training time: {training_time}\")"
   ]
  },
  {
   "cell_type": "code",
   "execution_count": 23,
   "metadata": {},
   "outputs": [
    {
     "data": {
      "image/png": "[encoded data removed]",
      "text/plain": [
       "<Figure size 640x480 with 1 Axes>"
      ]
     },
     "metadata": {},
     "output_type": "display_data"
    }
   ],
   "source": [
    "plt.plot(hist)\n",
    "plt.title(\"Loss Curve:\")\n",
    "\n",
    "plt.xlabel(\"Epoch\")\n",
    "plt.ylabel(\"Loss\")\n",
    "\n",
    "plt.show()"
   ]
  },
  {
   "cell_type": "code",
   "execution_count": 39,
   "metadata": {},
   "outputs": [
    {
     "ename": "TypeError",
     "evalue": "'int' object is not callable",
     "output_type": "error",
     "traceback": [
      "\u001b[0;31m---------------------------------------------------------------------------\u001b[0m",
      "\u001b[0;31mTypeError\u001b[0m                                 Traceback (most recent call last)",
      "Cell \u001b[0;32mIn[39], line 2\u001b[0m\n\u001b[1;32m      1\u001b[0m \u001b[38;5;28;01mwith\u001b[39;00m torch\u001b[38;5;241m.\u001b[39mno_grad():\n\u001b[0;32m----> 2\u001b[0m     test_pred \u001b[38;5;241m=\u001b[39m \u001b[43mmodel\u001b[49m\u001b[43m(\u001b[49m\u001b[43mx_test\u001b[49m\u001b[43m)\u001b[49m\n",
      "File \u001b[0;32m~/.local/lib/python3.10/site-packages/torch/nn/modules/module.py:1511\u001b[0m, in \u001b[0;36mModule._wrapped_call_impl\u001b[0;34m(self, *args, **kwargs)\u001b[0m\n\u001b[1;32m   1509\u001b[0m     \u001b[38;5;28;01mreturn\u001b[39;00m \u001b[38;5;28mself\u001b[39m\u001b[38;5;241m.\u001b[39m_compiled_call_impl(\u001b[38;5;241m*\u001b[39margs, \u001b[38;5;241m*\u001b[39m\u001b[38;5;241m*\u001b[39mkwargs)  \u001b[38;5;66;03m# type: ignore[misc]\u001b[39;00m\n\u001b[1;32m   1510\u001b[0m \u001b[38;5;28;01melse\u001b[39;00m:\n\u001b[0;32m-> 1511\u001b[0m     \u001b[38;5;28;01mreturn\u001b[39;00m \u001b[38;5;28;43mself\u001b[39;49m\u001b[38;5;241;43m.\u001b[39;49m\u001b[43m_call_impl\u001b[49m\u001b[43m(\u001b[49m\u001b[38;5;241;43m*\u001b[39;49m\u001b[43margs\u001b[49m\u001b[43m,\u001b[49m\u001b[43m \u001b[49m\u001b[38;5;241;43m*\u001b[39;49m\u001b[38;5;241;43m*\u001b[39;49m\u001b[43mkwargs\u001b[49m\u001b[43m)\u001b[49m\n",
      "File \u001b[0;32m~/.local/lib/python3.10/site-packages/torch/nn/modules/module.py:1520\u001b[0m, in \u001b[0;36mModule._call_impl\u001b[0;34m(self, *args, **kwargs)\u001b[0m\n\u001b[1;32m   1515\u001b[0m \u001b[38;5;66;03m# If we don't have any hooks, we want to skip the rest of the logic in\u001b[39;00m\n\u001b[1;32m   1516\u001b[0m \u001b[38;5;66;03m# this function, and just call forward.\u001b[39;00m\n\u001b[1;32m   1517\u001b[0m \u001b[38;5;28;01mif\u001b[39;00m \u001b[38;5;129;01mnot\u001b[39;00m (\u001b[38;5;28mself\u001b[39m\u001b[38;5;241m.\u001b[39m_backward_hooks \u001b[38;5;129;01mor\u001b[39;00m \u001b[38;5;28mself\u001b[39m\u001b[38;5;241m.\u001b[39m_backward_pre_hooks \u001b[38;5;129;01mor\u001b[39;00m \u001b[38;5;28mself\u001b[39m\u001b[38;5;241m.\u001b[39m_forward_hooks \u001b[38;5;129;01mor\u001b[39;00m \u001b[38;5;28mself\u001b[39m\u001b[38;5;241m.\u001b[39m_forward_pre_hooks\n\u001b[1;32m   1518\u001b[0m         \u001b[38;5;129;01mor\u001b[39;00m _global_backward_pre_hooks \u001b[38;5;129;01mor\u001b[39;00m _global_backward_hooks\n\u001b[1;32m   1519\u001b[0m         \u001b[38;5;129;01mor\u001b[39;00m _global_forward_hooks \u001b[38;5;129;01mor\u001b[39;00m _global_forward_pre_hooks):\n\u001b[0;32m-> 1520\u001b[0m     \u001b[38;5;28;01mreturn\u001b[39;00m \u001b[43mforward_call\u001b[49m\u001b[43m(\u001b[49m\u001b[38;5;241;43m*\u001b[39;49m\u001b[43margs\u001b[49m\u001b[43m,\u001b[49m\u001b[43m \u001b[49m\u001b[38;5;241;43m*\u001b[39;49m\u001b[38;5;241;43m*\u001b[39;49m\u001b[43mkwargs\u001b[49m\u001b[43m)\u001b[49m\n\u001b[1;32m   1522\u001b[0m \u001b[38;5;28;01mtry\u001b[39;00m:\n\u001b[1;32m   1523\u001b[0m     result \u001b[38;5;241m=\u001b[39m \u001b[38;5;28;01mNone\u001b[39;00m\n",
      "Cell \u001b[0;32mIn[34], line 11\u001b[0m, in \u001b[0;36mLSTM.forward\u001b[0;34m(self, x)\u001b[0m\n\u001b[1;32m     10\u001b[0m \u001b[38;5;28;01mdef\u001b[39;00m \u001b[38;5;21mforward\u001b[39m(\u001b[38;5;28mself\u001b[39m, x):\n\u001b[0;32m---> 11\u001b[0m     h0 \u001b[38;5;241m=\u001b[39m torch\u001b[38;5;241m.\u001b[39mzeros(\u001b[38;5;28mself\u001b[39m\u001b[38;5;241m.\u001b[39mnum_layer, \u001b[43mx\u001b[49m\u001b[38;5;241;43m.\u001b[39;49m\u001b[43msize\u001b[49m\u001b[43m(\u001b[49m\u001b[38;5;241;43m0\u001b[39;49m\u001b[43m)\u001b[49m, \u001b[38;5;28mself\u001b[39m\u001b[38;5;241m.\u001b[39mhidden_dim)\u001b[38;5;241m.\u001b[39mrequires_grad_()\n\u001b[1;32m     12\u001b[0m     c0 \u001b[38;5;241m=\u001b[39m torch\u001b[38;5;241m.\u001b[39mzeros(\u001b[38;5;28mself\u001b[39m\u001b[38;5;241m.\u001b[39mnum_layer, x\u001b[38;5;241m.\u001b[39msize(\u001b[38;5;241m0\u001b[39m), \u001b[38;5;28mself\u001b[39m\u001b[38;5;241m.\u001b[39mhidden_dim)\u001b[38;5;241m.\u001b[39mrequires_grad_()\n\u001b[1;32m     14\u001b[0m     out, (hn, cn) \u001b[38;5;241m=\u001b[39m \u001b[38;5;28mself\u001b[39m\u001b[38;5;241m.\u001b[39mlstm(x, (h0\u001b[38;5;241m.\u001b[39mdetach(), c0\u001b[38;5;241m.\u001b[39mdetach()))\n",
      "\u001b[0;31mTypeError\u001b[0m: 'int' object is not callable"
     ]
    }
   ],
   "source": [
    "with torch.no_grad():\n",
    "    test_pred = model(x_test)\n"
   ]
  },
  {
   "cell_type": "code",
   "execution_count": null,
   "metadata": {},
   "outputs": [],
   "source": [
    "y_train_pred = scaler.inverse_transform(y_train_pred.detach().numpy())\n",
    "y_train = scaler.inverse_transform(y_train.detach().numpy())\n",
    "y_test_pred = scaler.inverse_transform(y_test_pred.detach().numpy())\n",
    "y_test = scaler.inverse_transform(y_test.detach().numpy())"
   ]
  },
  {
   "cell_type": "code",
   "execution_count": null,
   "metadata": {},
   "outputs": [],
   "source": [
    "train_rmse = np.sqrt(((y_train - y_train_pred) ** 2).mean())\n",
    "test_rmse = np.sqrt(((y_test - y_test_pred) ** 2).mean())\n",
    "\n",
    "print(f\"Train RMSE: {train_rmse}\")\n",
    "print(f\"Test RMSE: {test_rmse}\")"
   ]
  },
  {
   "cell_type": "code",
   "execution_count": null,
   "metadata": {},
   "outputs": [],
   "source": [
    "plt.plot(y_test, label=\"True Price\")\n",
    "plt.plot(y_test_pred, label=\"Predicted Price\")\n",
    "plt.title(\"TCS Stock Price Prediction\")\n",
    "plt.xlabel(\"Time\")\n",
    "plt.ylabel(\"Stock Price\")\n",
    "plt.legend()\n",
    "plt.show()"
   ]
  }
 ],
 "metadata": {
  "kernelspec": {
   "display_name": "Python 3",
   "language": "python",
   "name": "python3"
  },
  "language_info": {
   "codemirror_mode": {
    "name": "ipython",
    "version": 3
   },
   "file_extension": ".py",
   "mimetype": "text/x-python",
   "name": "python",
   "nbconvert_exporter": "python",
   "pygments_lexer": "ipython3",
   "version": "3.10.12"
  }
 },
 "nbformat": 4,
 "nbformat_minor": 2
}
